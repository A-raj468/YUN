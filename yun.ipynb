{
 "cells": [
  {
   "cell_type": "code",
   "execution_count": 1,
   "metadata": {},
   "outputs": [],
   "source": [
    "import librosa\n",
    "import soundfile\n",
    "import os, glob, pickle\n",
    "import numpy as np\n",
    "from sklearn.model_selection import train_test_split\n",
    "from sklearn.neural_network import MLPClassifier\n",
    "from sklearn.metrics import accuracy_score"
   ]
  },
  {
   "cell_type": "code",
   "execution_count": 2,
   "metadata": {},
   "outputs": [],
   "source": [
    "#DataFlair - Extract features (mfcc, chroma, mel) from a sound file\n",
    "def extract_feature(file_name, mfcc, chroma, mel):\n",
    "    with soundfile.SoundFile(file_name) as sound_file:\n",
    "        X = sound_file.read(dtype=\"float32\")\n",
    "        sample_rate=sound_file.samplerate\n",
    "        if chroma:\n",
    "            stft=np.abs(librosa.stft(X))\n",
    "        result=np.array([])\n",
    "        if mfcc:\n",
    "            mfccs=np.mean(librosa.feature.mfcc(y=X, sr=sample_rate, n_mfcc=40).T, axis=0)\n",
    "            result=np.hstack((result, mfccs))\n",
    "        if chroma:\n",
    "            chroma=np.mean(librosa.feature.chroma_stft(S=stft, sr=sample_rate).T,axis=0)\n",
    "            result=np.hstack((result, chroma))\n",
    "        if mel:\n",
    "            mel=np.mean(librosa.feature.melspectrogram(y=X, sr=sample_rate).T,axis=0)\n",
    "            result=np.hstack((result, mel))\n",
    "    return result"
   ]
  },
  {
   "cell_type": "code",
   "execution_count": 3,
   "metadata": {},
   "outputs": [],
   "source": [
    "#DataFlair - Emotions in the RAVDESS dataset\n",
    "emotions={\n",
    "  '01':'neutral',\n",
    "  '02':'calm',\n",
    "  '03':'happy',\n",
    "  '04':'sad',\n",
    "  '05':'angry',\n",
    "  '06':'fearful',\n",
    "  '07':'disgust',\n",
    "  '08':'surprised'\n",
    "}\n",
    "\n",
    "#DataFlair - Emotions to observe\n",
    "observed_emotions=['calm', 'happy', 'fearful', 'disgust']"
   ]
  },
  {
   "cell_type": "code",
   "execution_count": 7,
   "metadata": {},
   "outputs": [],
   "source": [
    "#DataFlair - Load the data and extract features for each sound file\n",
    "def load_data(test_size=0.2):\n",
    "    x,y=[],[]\n",
    "    for file in glob.glob(\"./speech-emotion-recognition-ravdess-data/Actor_*/*.wav\"):\n",
    "        file_name=os.path.basename(file)\n",
    "        emotion=emotions[file_name.split(\"-\")[2]]\n",
    "        if emotion not in observed_emotions:\n",
    "            continue\n",
    "        feature=extract_feature(file, mfcc=True, chroma=True, mel=True)\n",
    "        x.append(feature)\n",
    "        y.append(emotion)\n",
    "    return train_test_split(np.array(x), y, test_size=test_size, random_state=9)"
   ]
  },
  {
   "cell_type": "code",
   "execution_count": 8,
   "metadata": {},
   "outputs": [
    {
     "name": "stdout",
     "output_type": "stream",
     "text": [
      "(576, 192)\n",
      "Features extracted: 180\n"
     ]
    },
    {
     "data": {
      "text/html": [
       "<style>#sk-container-id-1 {color: black;background-color: white;}#sk-container-id-1 pre{padding: 0;}#sk-container-id-1 div.sk-toggleable {background-color: white;}#sk-container-id-1 label.sk-toggleable__label {cursor: pointer;display: block;width: 100%;margin-bottom: 0;padding: 0.3em;box-sizing: border-box;text-align: center;}#sk-container-id-1 label.sk-toggleable__label-arrow:before {content: \"▸\";float: left;margin-right: 0.25em;color: #696969;}#sk-container-id-1 label.sk-toggleable__label-arrow:hover:before {color: black;}#sk-container-id-1 div.sk-estimator:hover label.sk-toggleable__label-arrow:before {color: black;}#sk-container-id-1 div.sk-toggleable__content {max-height: 0;max-width: 0;overflow: hidden;text-align: left;background-color: #f0f8ff;}#sk-container-id-1 div.sk-toggleable__content pre {margin: 0.2em;color: black;border-radius: 0.25em;background-color: #f0f8ff;}#sk-container-id-1 input.sk-toggleable__control:checked~div.sk-toggleable__content {max-height: 200px;max-width: 100%;overflow: auto;}#sk-container-id-1 input.sk-toggleable__control:checked~label.sk-toggleable__label-arrow:before {content: \"▾\";}#sk-container-id-1 div.sk-estimator input.sk-toggleable__control:checked~label.sk-toggleable__label {background-color: #d4ebff;}#sk-container-id-1 div.sk-label input.sk-toggleable__control:checked~label.sk-toggleable__label {background-color: #d4ebff;}#sk-container-id-1 input.sk-hidden--visually {border: 0;clip: rect(1px 1px 1px 1px);clip: rect(1px, 1px, 1px, 1px);height: 1px;margin: -1px;overflow: hidden;padding: 0;position: absolute;width: 1px;}#sk-container-id-1 div.sk-estimator {font-family: monospace;background-color: #f0f8ff;border: 1px dotted black;border-radius: 0.25em;box-sizing: border-box;margin-bottom: 0.5em;}#sk-container-id-1 div.sk-estimator:hover {background-color: #d4ebff;}#sk-container-id-1 div.sk-parallel-item::after {content: \"\";width: 100%;border-bottom: 1px solid gray;flex-grow: 1;}#sk-container-id-1 div.sk-label:hover label.sk-toggleable__label {background-color: #d4ebff;}#sk-container-id-1 div.sk-serial::before {content: \"\";position: absolute;border-left: 1px solid gray;box-sizing: border-box;top: 0;bottom: 0;left: 50%;z-index: 0;}#sk-container-id-1 div.sk-serial {display: flex;flex-direction: column;align-items: center;background-color: white;padding-right: 0.2em;padding-left: 0.2em;position: relative;}#sk-container-id-1 div.sk-item {position: relative;z-index: 1;}#sk-container-id-1 div.sk-parallel {display: flex;align-items: stretch;justify-content: center;background-color: white;position: relative;}#sk-container-id-1 div.sk-item::before, #sk-container-id-1 div.sk-parallel-item::before {content: \"\";position: absolute;border-left: 1px solid gray;box-sizing: border-box;top: 0;bottom: 0;left: 50%;z-index: -1;}#sk-container-id-1 div.sk-parallel-item {display: flex;flex-direction: column;z-index: 1;position: relative;background-color: white;}#sk-container-id-1 div.sk-parallel-item:first-child::after {align-self: flex-end;width: 50%;}#sk-container-id-1 div.sk-parallel-item:last-child::after {align-self: flex-start;width: 50%;}#sk-container-id-1 div.sk-parallel-item:only-child::after {width: 0;}#sk-container-id-1 div.sk-dashed-wrapped {border: 1px dashed gray;margin: 0 0.4em 0.5em 0.4em;box-sizing: border-box;padding-bottom: 0.4em;background-color: white;}#sk-container-id-1 div.sk-label label {font-family: monospace;font-weight: bold;display: inline-block;line-height: 1.2em;}#sk-container-id-1 div.sk-label-container {text-align: center;}#sk-container-id-1 div.sk-container {/* jupyter's `normalize.less` sets `[hidden] { display: none; }` but bootstrap.min.css set `[hidden] { display: none !important; }` so we also need the `!important` here to be able to override the default hidden behavior on the sphinx rendered scikit-learn.org. See: https://github.com/scikit-learn/scikit-learn/issues/21755 */display: inline-block !important;position: relative;}#sk-container-id-1 div.sk-text-repr-fallback {display: none;}</style><div id=\"sk-container-id-1\" class=\"sk-top-container\"><div class=\"sk-text-repr-fallback\"><pre>MLPClassifier(alpha=0.01, batch_size=256, hidden_layer_sizes=(300,),\n",
       "              learning_rate=&#x27;adaptive&#x27;, max_iter=500)</pre><b>In a Jupyter environment, please rerun this cell to show the HTML representation or trust the notebook. <br />On GitHub, the HTML representation is unable to render, please try loading this page with nbviewer.org.</b></div><div class=\"sk-container\" hidden><div class=\"sk-item\"><div class=\"sk-estimator sk-toggleable\"><input class=\"sk-toggleable__control sk-hidden--visually\" id=\"sk-estimator-id-1\" type=\"checkbox\" checked><label for=\"sk-estimator-id-1\" class=\"sk-toggleable__label sk-toggleable__label-arrow\">MLPClassifier</label><div class=\"sk-toggleable__content\"><pre>MLPClassifier(alpha=0.01, batch_size=256, hidden_layer_sizes=(300,),\n",
       "              learning_rate=&#x27;adaptive&#x27;, max_iter=500)</pre></div></div></div></div></div>"
      ],
      "text/plain": [
       "MLPClassifier(alpha=0.01, batch_size=256, hidden_layer_sizes=(300,),\n",
       "              learning_rate='adaptive', max_iter=500)"
      ]
     },
     "execution_count": 8,
     "metadata": {},
     "output_type": "execute_result"
    }
   ],
   "source": [
    "#DataFlair - Split the dataset\n",
    "x_train,x_test,y_train,y_test=load_data(test_size=0.25)\n",
    "\n",
    "#DataFlair - Get the shape of the training and testing datasets\n",
    "print((x_train.shape[0], x_test.shape[0]))\n",
    "\n",
    "#DataFlair - Get the number of features extracted\n",
    "print(f'Features extracted: {x_train.shape[1]}')\n",
    "\n",
    "#DataFlair - Initialize the Multi Layer Perceptron Classifier\n",
    "model=MLPClassifier(alpha=0.01, batch_size=256, epsilon=1e-08, hidden_layer_sizes=(300,), learning_rate='adaptive', max_iter=500)\n",
    "\n",
    "#DataFlair - Train the model\n",
    "model.fit(x_train,y_train)"
   ]
  },
  {
   "cell_type": "code",
   "execution_count": 9,
   "metadata": {},
   "outputs": [
    {
     "name": "stdout",
     "output_type": "stream",
     "text": [
      "Accuracy: 68.75%\n"
     ]
    }
   ],
   "source": [
    "#DataFlair - Predict for the test set\n",
    "y_pred=model.predict(x_test)\n",
    "\n",
    "#DataFlair - Calculate the accuracy of our model\n",
    "accuracy=accuracy_score(y_true=y_test, y_pred=y_pred)\n",
    "\n",
    "#DataFlair - Print the accuracy\n",
    "print(\"Accuracy: {:.2f}%\".format(accuracy*100))"
   ]
  },
  {
   "cell_type": "code",
   "execution_count": 11,
   "metadata": {},
   "outputs": [
    {
     "name": "stdout",
     "output_type": "stream",
     "text": [
      "[[-6.93497009e+02  5.00643921e+01  5.71450591e-01  1.43299656e+01\n",
      "   3.33636999e+00 -2.54071975e+00 -4.05790949e+00 -1.07119999e+01\n",
      "  -7.29413939e+00  1.74018872e+00 -4.19064283e+00  1.95466173e+00\n",
      "  -5.24789381e+00  2.78142977e+00 -3.16756773e+00 -3.40008307e+00\n",
      "  -2.37803221e+00 -5.68717539e-01 -6.47753334e+00 -1.24320555e+00\n",
      "  -2.80542517e+00 -5.43635798e+00 -4.46875393e-01 -3.63516617e+00\n",
      "  -2.98372650e+00 -5.63902617e-01 -1.65101993e+00 -5.55944860e-01\n",
      "  -3.41018438e+00 -2.24465466e+00 -3.13058877e+00 -2.70089960e+00\n",
      "  -1.88821328e+00 -5.54154277e-01 -3.96459913e+00 -2.13485193e+00\n",
      "  -3.94577074e+00 -1.62457860e+00 -2.03990722e+00 -3.62910867e+00\n",
      "   6.33734703e-01  6.48760676e-01  6.21744275e-01  6.34553194e-01\n",
      "   6.60345614e-01  6.60463989e-01  7.00949013e-01  7.31556356e-01\n",
      "   7.46921539e-01  7.23420441e-01  7.16119647e-01  6.30602837e-01\n",
      "   6.52830636e-07  2.22643266e-05  8.42613052e-04  1.37719270e-02\n",
      "   2.83742324e-02  3.12111359e-02  8.02663807e-03  3.56961833e-03\n",
      "   2.32551787e-02  2.45211683e-02  1.87926665e-02  2.44478174e-02\n",
      "   1.16031338e-02  8.60342197e-03  6.71913056e-03  9.94843338e-03\n",
      "   1.89656094e-02  5.04483357e-02  4.14051339e-02  9.96424630e-03\n",
      "   9.64601431e-03  1.54170115e-02  4.05186079e-02  2.10739672e-02\n",
      "   2.12946697e-03  2.76945531e-03  5.57055743e-03  1.91831719e-02\n",
      "   1.36224311e-02  1.21960300e-03  6.94197835e-04  8.96891870e-04\n",
      "   8.47186951e-04  3.62369727e-04  2.21950642e-04  1.40306875e-04\n",
      "   2.73740763e-04  3.75907082e-04  8.28741526e-04  8.59786058e-04\n",
      "   6.12733071e-04  3.95248993e-04  2.20409798e-04  3.04378307e-04\n",
      "   1.89061835e-03  1.24956470e-03  1.03854900e-03  2.60822126e-03\n",
      "   3.86649882e-03  4.33528004e-03  9.54611111e-04  4.93530591e-04\n",
      "   4.47093364e-04  8.03626666e-04  7.09871238e-04  3.92192771e-04\n",
      "   6.18621008e-04  9.43593972e-04  7.60865514e-04  7.23498932e-04\n",
      "   1.00387214e-03  9.19646234e-04  8.18870671e-04  5.08129189e-04\n",
      "   4.11667366e-04  4.03237646e-04  1.48571402e-04  6.84264640e-04\n",
      "   1.38615607e-03  2.92808865e-04  5.09449237e-05  7.45297148e-05\n",
      "   1.39878655e-04  8.93816250e-05  1.35135124e-04  1.09651715e-04\n",
      "   2.46569631e-04  7.43343204e-04  4.77164402e-04  6.96408853e-04\n",
      "   4.74705710e-04  2.55434716e-04  1.59143689e-04  8.08707482e-05\n",
      "   9.79213364e-05  8.84003894e-05  9.75710209e-05  1.17046940e-04\n",
      "   1.84339995e-04  1.69435385e-04  2.55545980e-04  2.40519148e-04\n",
      "   4.28831205e-04  2.98486266e-04  4.27471416e-04  1.06324667e-04\n",
      "   5.85673333e-05  2.31044742e-05  8.89405237e-06  1.98013931e-05\n",
      "   1.09333178e-05  3.66455424e-05  3.68459878e-05  5.25096366e-05\n",
      "   3.77127617e-05  8.86667185e-05  7.79374823e-05  4.24979553e-05\n",
      "   6.51855808e-05  3.53608302e-05  2.41367925e-05  2.45215579e-05\n",
      "   2.89214531e-05  3.95157222e-05  2.72971338e-05  1.96686051e-05\n",
      "   1.51977429e-05  1.06007192e-05  7.99631744e-06  6.07571883e-06\n",
      "   4.48540641e-06  4.12061945e-06  3.71885676e-06  3.93320988e-06\n",
      "   3.48488379e-06  4.07551670e-06  1.81608038e-06  7.83327664e-07]]\n"
     ]
    }
   ],
   "source": [
    "test_audio = \"./speech-emotion-recognition-ravdess-data/Actor_01/03-01-01-01-01-01-01.wav\"\n",
    "# file = glob.glob(test_audio)\n",
    "feature=extract_feature(test_audio, mfcc=True, chroma=True, mel=True).reshape(1,-1)\n",
    "print(feature)"
   ]
  },
  {
   "cell_type": "code",
   "execution_count": 12,
   "metadata": {},
   "outputs": [
    {
     "name": "stdout",
     "output_type": "stream",
     "text": [
      "['happy']\n"
     ]
    }
   ],
   "source": [
    "pred = model.predict(feature)\n",
    "print(pred)"
   ]
  },
  {
   "cell_type": "code",
   "execution_count": 17,
   "metadata": {},
   "outputs": [
    {
     "name": "stderr",
     "output_type": "stream",
     "text": [
      "ffmpeg version 4.4.2-0ubuntu0.22.04.1 Copyright (c) 2000-2021 the FFmpeg developers\n",
      "  built with gcc 11 (Ubuntu 11.2.0-19ubuntu1)\n",
      "  configuration: --prefix=/usr --extra-version=0ubuntu0.22.04.1 --toolchain=hardened --libdir=/usr/lib/x86_64-linux-gnu --incdir=/usr/include/x86_64-linux-gnu --arch=amd64 --enable-gpl --disable-stripping --enable-gnutls --enable-ladspa --enable-libaom --enable-libass --enable-libbluray --enable-libbs2b --enable-libcaca --enable-libcdio --enable-libcodec2 --enable-libdav1d --enable-libflite --enable-libfontconfig --enable-libfreetype --enable-libfribidi --enable-libgme --enable-libgsm --enable-libjack --enable-libmp3lame --enable-libmysofa --enable-libopenjpeg --enable-libopenmpt --enable-libopus --enable-libpulse --enable-librabbitmq --enable-librubberband --enable-libshine --enable-libsnappy --enable-libsoxr --enable-libspeex --enable-libsrt --enable-libssh --enable-libtheora --enable-libtwolame --enable-libvidstab --enable-libvorbis --enable-libvpx --enable-libwebp --enable-libx265 --enable-libxml2 --enable-libxvid --enable-libzimg --enable-libzmq --enable-libzvbi --enable-lv2 --enable-omx --enable-openal --enable-opencl --enable-opengl --enable-sdl2 --enable-pocketsphinx --enable-librsvg --enable-libmfx --enable-libdc1394 --enable-libdrm --enable-libiec61883 --enable-chromaprint --enable-frei0r --enable-libx264 --enable-shared\n",
      "  libavutil      56. 70.100 / 56. 70.100\n",
      "  libavcodec     58.134.100 / 58.134.100\n",
      "  libavformat    58. 76.100 / 58. 76.100\n",
      "  libavdevice    58. 13.100 / 58. 13.100\n",
      "  libavfilter     7.110.100 /  7.110.100\n",
      "  libswscale      5.  9.100 /  5.  9.100\n",
      "  libswresample   3.  9.100 /  3.  9.100\n",
      "  libpostproc    55.  9.100 / 55.  9.100\n",
      "[mp3 @ 0x55f3bc472700] Estimating duration from bitrate, this may be inaccurate\n",
      "Input #0, mp3, from 'input.mp3':\n",
      "  Duration: 00:00:01.18, start: 0.000000, bitrate: 256 kb/s\n",
      "  Stream #0:0: Audio: mp3, 44100 Hz, mono, fltp, 256 kb/s\n",
      "Stream mapping:\n",
      "  Stream #0:0 -> #0:0 (mp3 (mp3float) -> pcm_s16le (native))\n",
      "Press [q] to stop, [?] for help\n",
      "Output #0, wav, to 'new_input.wav':\n",
      "  Metadata:\n",
      "    ISFT            : Lavf58.76.100\n",
      "  Stream #0:0: Audio: pcm_s16le ([1][0][0][0] / 0x0001), 44100 Hz, mono, s16, 705 kb/s\n",
      "    Metadata:\n",
      "      encoder         : Lavc58.134.100 pcm_s16le\n",
      "size=     101kB time=00:00:01.14 bitrate= 722.2kbits/s speed=47.2x    \n",
      "video:0kB audio:101kB subtitle:0kB other streams:0kB global headers:0kB muxing overhead: 0.075231%\n"
     ]
    },
    {
     "data": {
      "text/plain": [
       "0"
      ]
     },
     "execution_count": 17,
     "metadata": {},
     "output_type": "execute_result"
    }
   ],
   "source": [
    "import subprocess\n",
    "input_file = \"input.mp3\"\n",
    "subprocess.call(['ffmpeg', '-i', input_file,\n",
    "                   'new_input.wav'])"
   ]
  },
  {
   "cell_type": "code",
   "execution_count": 18,
   "metadata": {},
   "outputs": [
    {
     "name": "stdout",
     "output_type": "stream",
     "text": [
      "[[-2.02566238e+02  1.53247696e+02 -4.11552429e+01  1.80244980e+01\n",
      "  -4.84987373e+01  4.06823206e+00 -4.19411011e+01  2.99412384e+01\n",
      "   3.00317144e+00 -1.31126671e+01  4.06742907e+00 -5.60801315e+00\n",
      "   8.82319736e+00 -1.61666203e+01 -2.32894874e+00 -1.38637495e+01\n",
      "  -4.87651199e-01 -5.25003242e+00 -1.42830915e+01  1.35662413e+00\n",
      "  -3.99389553e+00  2.80834842e+00 -9.52786565e-01 -4.21450901e+00\n",
      "   2.54911113e+00 -1.01540172e+00 -4.03185892e+00  5.53118896e+00\n",
      "   2.83477449e+00 -1.40196538e+00 -2.22003102e+00  2.06856918e+00\n",
      "   3.52806473e+00 -5.62883902e+00  3.41066289e+00  8.79894853e-01\n",
      "  -2.52126157e-01 -1.20661128e+00 -9.27810490e-01  1.68014014e+00\n",
      "   5.23416698e-01  5.14195025e-01  5.87532222e-01  6.21165633e-01\n",
      "   5.84735096e-01  6.56977057e-01  7.58843958e-01  7.42974997e-01\n",
      "   7.21904933e-01  6.69524252e-01  6.88618183e-01  5.91876328e-01\n",
      "   2.07286961e-02  2.06426919e-01  5.71442783e-01  3.70571464e-01\n",
      "   3.01768214e-01  3.82321429e+00  2.00965786e+01  1.36926146e+01\n",
      "   6.77405977e+00  7.31264591e+00  7.23668909e+00  4.94353390e+00\n",
      "   4.51970720e+00  5.45083189e+00  6.55837393e+00  3.82844162e+00\n",
      "   2.69328570e+00  3.87339115e+00  4.07642794e+00  5.93058825e+00\n",
      "   9.61299896e+00  2.16405334e+01  2.74472828e+01  3.12441883e+01\n",
      "   5.07570419e+01  4.45551071e+01  3.85457039e+01  2.17285881e+01\n",
      "   2.84746494e+01  2.23101883e+01  1.10200377e+01  1.03277254e+01\n",
      "   1.00041885e+01  1.01954117e+01  8.78472328e+00  1.15435410e+01\n",
      "   1.13560686e+01  8.35703659e+00  7.10177851e+00  4.36536264e+00\n",
      "   2.32268023e+00  1.71986616e+00  1.40652812e+00  9.19329226e-01\n",
      "   7.17718303e-01  3.95142019e-01  3.53566885e-01  3.62829447e-01\n",
      "   2.76401669e-01  2.32093289e-01  1.51479393e-01  5.51062487e-02\n",
      "   5.38957976e-02  5.54136522e-02  5.95923737e-02  4.76775579e-02\n",
      "   3.52854952e-02  3.79635207e-02  5.07007204e-02  9.35830027e-02\n",
      "   1.20659173e-01  1.39299050e-01  2.00526386e-01  4.10802752e-01\n",
      "   1.04112172e+00  1.81981122e+00  1.47864020e+00  4.67072427e-01\n",
      "   2.27565050e-01  1.09811880e-01  1.37317806e-01  1.35852516e-01\n",
      "   2.83339262e-01  4.28152621e-01  3.45427901e-01  1.41759962e-01\n",
      "   7.21335113e-02  4.65325899e-02  6.00363985e-02  5.92669845e-02\n",
      "   7.00015947e-02  3.51922810e-02  3.13259959e-02  1.31146880e-02\n",
      "   8.76182411e-03  9.19012167e-03  8.67187418e-03  1.27952043e-02\n",
      "   1.42097371e-02  1.20954756e-02  1.42077804e-02  1.69291031e-02\n",
      "   2.42301561e-02  2.87653096e-02  4.18748073e-02  8.91130567e-02\n",
      "   1.23564184e-01  8.39741379e-02  3.65790874e-02  1.27847027e-02\n",
      "   1.11740427e-02  1.75937843e-02  3.25870067e-02  4.61576506e-02\n",
      "   7.07945079e-02  8.11217800e-02  9.51765925e-02  6.80191815e-02\n",
      "   2.56220344e-02  1.09960744e-02  5.04326820e-03  2.90421303e-03\n",
      "   3.59939970e-03  1.45516417e-03  1.45795711e-04  1.63655914e-05\n",
      "   3.76022144e-05  1.38416857e-04  4.73422006e-05  5.92972569e-08\n",
      "   3.24529359e-09  3.07576586e-09  3.05352921e-09  2.89024693e-09\n",
      "   2.98160674e-09  2.85003399e-09  2.69798317e-09  2.80604362e-09]]\n"
     ]
    }
   ],
   "source": [
    "test_audio = \"./new_input.wav\"\n",
    "# file = glob.glob(test_audio)\n",
    "feature=extract_feature(test_audio, mfcc=True, chroma=True, mel=True).reshape(1,-1)\n",
    "print(feature)"
   ]
  },
  {
   "cell_type": "code",
   "execution_count": 20,
   "metadata": {},
   "outputs": [
    {
     "name": "stdout",
     "output_type": "stream",
     "text": [
      "['fearful']\n"
     ]
    }
   ],
   "source": [
    "prediction = model.predict(feature)\n",
    "print(prediction)"
   ]
  }
 ],
 "metadata": {
  "kernelspec": {
   "display_name": "Python 3",
   "language": "python",
   "name": "python3"
  },
  "language_info": {
   "codemirror_mode": {
    "name": "ipython",
    "version": 3
   },
   "file_extension": ".py",
   "mimetype": "text/x-python",
   "name": "python",
   "nbconvert_exporter": "python",
   "pygments_lexer": "ipython3",
   "version": "3.10.6"
  },
  "orig_nbformat": 4
 },
 "nbformat": 4,
 "nbformat_minor": 2
}
